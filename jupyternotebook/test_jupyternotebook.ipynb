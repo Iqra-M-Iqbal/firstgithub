{
 "cells": [
  {
   "cell_type": "markdown",
   "id": "87af3eab",
   "metadata": {},
   "source": [
    "# python ka chilla\n",
    "## we are learning python with baba ammar\n",
    "### basics of python\n",
    "\n",
    "01-my first pro\n"
   ]
  },
  {
   "cell_type": "code",
   "execution_count": 2,
   "id": "1bf9c07a",
   "metadata": {},
   "outputs": [
    {
     "name": "stdout",
     "output_type": "stream",
     "text": [
      "5\n",
      "hello world\n",
      "we are learning python with ammar\n"
     ]
    }
   ],
   "source": [
    "print(2+3)\n",
    "print(\"hello world\")\n",
    "print(\"we are learning python with ammar\")"
   ]
  },
  {
   "cell_type": "markdown",
   "id": "b8ad8007",
   "metadata": {},
   "source": [
    "\n",
    "**02- operators**"
   ]
  },
  {
   "cell_type": "code",
   "execution_count": 8,
   "id": "a0ea48ea",
   "metadata": {},
   "outputs": [
    {
     "name": "stdout",
     "output_type": "stream",
     "text": [
      "5\n",
      "1\n",
      "1.3333333333333333\n",
      "1\n",
      "20\n",
      "1\n",
      "16\n",
      "56\n"
     ]
    }
   ],
   "source": [
    "print(2+3)\n",
    "print(6-5)\n",
    "print(4/3)\n",
    "print(4//3)\n",
    "print(4*5)\n",
    "print(7%2)\n",
    "print(4**2)\n",
    "print(4**4*(3-1)//9)"
   ]
  },
  {
   "cell_type": "markdown",
   "id": "6d8f6dc5",
   "metadata": {},
   "source": [
    "03- strings"
   ]
  },
  {
   "cell_type": "code",
   "execution_count": 9,
   "id": "b19454fb",
   "metadata": {},
   "outputs": [
    {
     "name": "stdout",
     "output_type": "stream",
     "text": [
      "hello world\n",
      "test for single quotes\n",
      "test for tripple quote\n"
     ]
    }
   ],
   "source": [
    "print(\"hello world\")\n",
    "print('test for single quotes')\n",
    "print('''test for tripple quote''')"
   ]
  },
  {
   "cell_type": "markdown",
   "id": "1dfb7b1a",
   "metadata": {},
   "source": [
    "04-variables"
   ]
  },
  {
   "cell_type": "code",
   "execution_count": 17,
   "id": "f02b5bf9",
   "metadata": {},
   "outputs": [
    {
     "name": "stdout",
     "output_type": "stream",
     "text": [
      "5\n",
      "<class 'int'>\n",
      "5\n",
      "<class 'int'>\n",
      "banana,apple\n",
      "input a number3\n",
      "8\n"
     ]
    }
   ],
   "source": [
    "x=5\n",
    "print(x)\n",
    "print(type(x))\n",
    "#x=\"we are learning python with ammar\"\n",
    "print(x)\n",
    "print(type(x))\n",
    "\n",
    "fruit_basket=\"banana,apple\"\n",
    "# del fruit_basket\n",
    "print(fruit_basket)\n",
    "\n",
    "y= int(input(\"input a number\"))\n",
    "print(y+x)"
   ]
  },
  {
   "cell_type": "markdown",
   "id": "0ebaa6b4",
   "metadata": {},
   "source": [
    "05-input_variables"
   ]
  },
  {
   "cell_type": "code",
   "execution_count": 18,
   "id": "e3f71252",
   "metadata": {},
   "outputs": [
    {
     "name": "stdout",
     "output_type": "stream",
     "text": [
      "What is your name?iqra\n",
      "please type your age9\n",
      "Hello iqra you are still young\n"
     ]
    }
   ],
   "source": [
    "# # fruit_basket=\"apple\"\n",
    "# # print(fruit_basket)\n",
    "\n",
    "# # fruit_basket=input(\"which is your favourite fruit?\")\n",
    "# # print(fruit_basket)\n",
    "\n",
    "# # name= input(\"what is your name? \")\n",
    "# # greetings=\"hello\"\n",
    "\n",
    "# # print(greetings,name)\n",
    "\n",
    "# name= input(\"what is your name? \")\n",
    "# # greetings=\"hello\"\n",
    "\n",
    "# print(\"Hello..\",name)\n",
    "name=input(\"What is your name?\")\n",
    "age=input(\"please type your age\")\n",
    "greetings=\"Hello\"\n",
    "#print(greetings,name,age)\n",
    "\n",
    "print(greetings,name,\"you are still young\")"
   ]
  },
  {
   "cell_type": "markdown",
   "id": "af1001b6",
   "metadata": {},
   "source": [
    "06-conditional_logics"
   ]
  },
  {
   "cell_type": "code",
   "execution_count": 19,
   "id": "03bfa845",
   "metadata": {},
   "outputs": [
    {
     "name": "stdout",
     "output_type": "stream",
     "text": [
      "Please enter your name?afaq\n",
      "What's your age?14\n",
      "Hello afaq You are too young for school\n"
     ]
    }
   ],
   "source": [
    "# print(2==2)\n",
    "# print(2!=2)\n",
    "# print(2>2)\n",
    "# print(2<2)\n",
    "# print(2>=2)\n",
    "# print(2<=2)\n",
    "\n",
    "\n",
    "name=input(\"Please enter your name?\")\n",
    "#age=16\n",
    "age=int(input(\"What's your age?\"))\n",
    "#print(type(age))\n",
    "if age >= 5 and age < 10:\n",
    "#     print(\"eligible\")\n",
    "# else:\n",
    "#     print(\"not eligible\")\n",
    "\n",
    "\n",
    "    print(\"Hello\", name, \"You are eligible for this admission\")\n",
    "\n",
    "else: \n",
    "\n",
    "    print(\"Hello\", name, \"You are too young for school\")\n"
   ]
  },
  {
   "cell_type": "markdown",
   "id": "10a0c6b6",
   "metadata": {},
   "source": [
    "07-if_else_elif"
   ]
  },
  {
   "cell_type": "code",
   "execution_count": 10,
   "id": "d7c71e2a",
   "metadata": {},
   "outputs": [
    {
     "name": "stdout",
     "output_type": "stream",
     "text": [
      "Please enter your name?afaq\n",
      "What's your age?8\n",
      "Hello afaq You are eligible for this admission\n",
      "eligible for school\n"
     ]
    }
   ],
   "source": [
    "name=input(\"Please enter your name?\")\n",
    "#age=16\n",
    "age=int(input(\"What's your age?\"))\n",
    "# print(type(age))\n",
    "if age >= 5 and age < 10:\n",
    "     print(\"Hello\", name, \"You are eligible for this admission\")\n",
    "     print(\"eligible for school\")\n",
    "elif age>=10 and age<20:\n",
    "    print(\"eligible for high school\")\n",
    "\n",
    "else:\n",
    "  print(\"not eligible\")"
   ]
  },
  {
   "cell_type": "markdown",
   "id": "dd461ed2",
   "metadata": {},
   "source": [
    "08-functions"
   ]
  },
  {
   "cell_type": "code",
   "execution_count": 8,
   "id": "ff2a6620",
   "metadata": {},
   "outputs": [
    {
     "name": "stdout",
     "output_type": "stream",
     "text": [
      "Please enter your name?omer\n",
      "What's your age?24\n",
      "not eligible\n"
     ]
    }
   ],
   "source": [
    "# def print_codanics():\n",
    "#  text = \"this is my first function\"\n",
    "#  print (text)\n",
    "# print_codanics()\n",
    "# print_codanics()\n",
    "# print_codanics()\n",
    "\n",
    "def school_age_cal(name, age):\n",
    "    if age >= 5 and age < 10:\n",
    "       print(\"Hello\", name, \"You are eligible for this admission\")\n",
    "        #print(\"eligible for school\") \n",
    "    elif age>=10 and age<20:\n",
    "        print(\"eligible for high school\")\n",
    "    else:\n",
    "          print(\"not eligible\")\n",
    "name=input(\"Please enter your name?\")\n",
    "age=int(input(\"What's your age?\"))\n",
    "school_age_cal(name, age)\n",
    "\n",
    "# def future_age(age):\n",
    "#     age=age+10\n",
    "#     return age\n",
    "\n",
    "# print(future_age(15))"
   ]
  },
  {
   "cell_type": "markdown",
   "id": "7e81cc08",
   "metadata": {},
   "source": [
    "09-loops"
   ]
  },
  {
   "cell_type": "code",
   "execution_count": 7,
   "id": "a6b82d2b",
   "metadata": {},
   "outputs": [
    {
     "name": "stdout",
     "output_type": "stream",
     "text": [
      "Enter day of week8\n",
      "please enter within the range of 1-7\n"
     ]
    }
   ],
   "source": [
    "# def print_codanics():\n",
    "#     text = \"this is my first function\"\n",
    "#     print (text)\n",
    "# #x=1\n",
    "# #while(x<=3):\n",
    "#      #print_codanics()\n",
    "# #     print_codanics()\n",
    "# #     print_codanics()\n",
    "#     # x=x+1\n",
    "# for x in range(0 ,5):\n",
    "#      print_codanics()\n",
    "# #     # print_codanics()\n",
    "# #     # print_codanics()\n",
    "\n",
    " #\n",
    "day=int(input(\"Enter day of week\"))\n",
    "if(day==1):\n",
    "    print(\"its monday\")\n",
    "elif(day==2):\n",
    "    print(\"the day is tuesday\")\n",
    "elif(day==3):\n",
    "    print(\"the day is wednesday\")\n",
    "elif(day==4):\n",
    "    print(\"the day is thursday\")\n",
    "elif(day==5):\n",
    "    print(\"the day is friday\")\n",
    "elif(day==6):\n",
    "    print(\"the day is saturday\")\n",
    "elif(day==7):\n",
    "    print(\"the day is sunday\") \n",
    "else: \n",
    "    print(\"please enter within the range of 1-7\") "
   ]
  },
  {
   "cell_type": "markdown",
   "id": "97c0f203",
   "metadata": {},
   "source": [
    "10-import_libraries"
   ]
  },
  {
   "cell_type": "code",
   "execution_count": 1,
   "id": "7ba4072f",
   "metadata": {},
   "outputs": [
    {
     "name": "stdout",
     "output_type": "stream",
     "text": [
      "3.141592653589793\n",
      "2\n"
     ]
    }
   ],
   "source": [
    "import math\n",
    "print(math.pi)\n",
    "import statistics\n",
    "x=[1,2,3]\n",
    "print(statistics.mean(x))"
   ]
  },
  {
   "cell_type": "code",
   "execution_count": null,
   "id": "fecdcb7d",
   "metadata": {},
   "outputs": [],
   "source": []
  }
 ],
 "metadata": {
  "kernelspec": {
   "display_name": "Python 3 (ipykernel)",
   "language": "python",
   "name": "python3"
  },
  "language_info": {
   "codemirror_mode": {
    "name": "ipython",
    "version": 3
   },
   "file_extension": ".py",
   "mimetype": "text/x-python",
   "name": "python",
   "nbconvert_exporter": "python",
   "pygments_lexer": "ipython3",
   "version": "3.9.7"
  }
 },
 "nbformat": 4,
 "nbformat_minor": 5
}
